{
  "nbformat": 4,
  "nbformat_minor": 0,
  "metadata": {
    "colab": {
      "name": "Copy-tubes-datamining.ipynb",
      "provenance": [],
      "collapsed_sections": []
    },
    "kernelspec": {
      "name": "python3",
      "display_name": "Python 3"
    },
    "language_info": {
      "name": "python"
    }
  },
  "cells": [
    {
      "cell_type": "code",
      "source": [
        "from google.colab import drive\n",
        "drive.mount('/content/drive')"
      ],
      "metadata": {
        "id": "cmJ4lxb2Lww-",
        "colab": {
          "base_uri": "https://localhost:8080/"
        },
        "outputId": "d72967a7-cff7-48c5-f96b-8a99ea092a27"
      },
      "execution_count": 27,
      "outputs": [
        {
          "output_type": "stream",
          "name": "stdout",
          "text": [
            "Drive already mounted at /content/drive; to attempt to forcibly remount, call drive.mount(\"/content/drive\", force_remount=True).\n"
          ]
        }
      ]
    },
    {
      "cell_type": "code",
      "source": [
        "import pandas as pd\n",
        "import numpy as np\n",
        "from scipy import stats\n",
        "from sklearn.tree import DecisionTreeClassifier\n",
        "from sklearn import preprocessing\n",
        "from sklearn.model_selection import train_test_split, cross_val_score\n",
        "from sklearn.metrics import confusion_matrix, accuracy_score, classification_report\n",
        "from numpy import mean\n",
        "from numpy import std\n",
        "from sklearn.model_selection import RepeatedStratifiedKFold\n",
        "from sklearn.ensemble import BaggingClassifier\n",
        "from sklearn.naive_bayes import GaussianNB, BernoulliNB\n",
        "from sklearn.linear_model import LogisticRegression\n",
        "import seaborn as sns\n",
        "df = pd.read_csv(\"/content/drive/My Drive/Dataset/data-mining/weatherHistory.csv\")"
      ],
      "metadata": {
        "id": "AKwB69ttL6IA"
      },
      "execution_count": 28,
      "outputs": []
    },
    {
      "cell_type": "code",
      "source": [
        "# Preprocessing\n",
        "df = df.dropna()\n",
        "andIdx = df[df['Summary'].str.contains(\"and\")].index\n",
        "df.drop(andIdx , inplace=True)\n",
        "label_encoder = preprocessing.LabelEncoder()\n",
        "df['Precip Type'] = label_encoder.fit_transform(df['Precip Type'])\n",
        "df['Summary'] = label_encoder.fit_transform(df['Summary'])\n",
        "med = df['Precip Type'].median()\n",
        "df['Precip Type'].fillna(med, inplace=True)"
      ],
      "metadata": {
        "id": "y3QX7enmd114"
      },
      "execution_count": 29,
      "outputs": []
    },
    {
      "cell_type": "code",
      "source": [
        "# Prepare Data Train & Data Test\n",
        "features = ['Precip Type', 'Temperature (C)', 'Apparent Temperature (C)',\n",
        "            'Humidity', 'Wind Speed (km/h)', 'Wind Bearing (degrees)',\n",
        "            'Visibility (km)', 'Pressure (millibars)']\n",
        "target = 'Summary'\n",
        "\n",
        "x_train, x_test, y_train, y_test = train_test_split(df[features], df[target],\n",
        "                                                    train_size=0.70, test_size=0.30, shuffle=False)\n",
        "\n",
        "# print(\"X_train: {}, Y_train: {}\".format(len(x_train), len(x_test)))\n",
        "# print(\"X_train: {}, Y_train: {}\".format(len(y_train), len(y_test)))"
      ],
      "metadata": {
        "id": "QyRYt9D33SMS"
      },
      "execution_count": 30,
      "outputs": []
    },
    {
      "cell_type": "code",
      "source": [
        "# Train Model Bagging\n",
        "# base : Decision Tree Classifier\n",
        "dtc = DecisionTreeClassifier(criterion=\"entropy\")\n",
        "bag_model = BaggingClassifier(base_estimator=dtc, n_estimators=100, bootstrap=True)\n",
        "bag_model = bag_model.fit(x_train, y_train)"
      ],
      "metadata": {
        "id": "tEyOLwUKTnKG"
      },
      "execution_count": 31,
      "outputs": []
    },
    {
      "cell_type": "code",
      "source": [
        "# Lama di run\n",
        "# Train Model Bagging\n",
        "# base : Logistic Regression\n",
        "lr = LogisticRegression()\n",
        "bag_model = BaggingClassifier(base_estimator=lr, n_estimators=100, bootstrap=True)\n",
        "bag_model = bag_model.fit(x_train, y_train)"
      ],
      "metadata": {
        "id": "3fE8mvqKNuh6"
      },
      "execution_count": null,
      "outputs": []
    },
    {
      "cell_type": "code",
      "source": [
        "# Train Model Bagging\n",
        "# base : Bernoulli Naive Bayes\n",
        "bnb = BernoulliNB()\n",
        "bag_model = BaggingClassifier(base_estimator=bnb, n_estimators=100, bootstrap=True)\n",
        "bag_model = bag_model.fit(x_train, y_train)"
      ],
      "metadata": {
        "id": "svLoeykBOUKN"
      },
      "execution_count": 20,
      "outputs": []
    },
    {
      "cell_type": "code",
      "source": [
        "# Lama di run\n",
        "# Train Model Bagging\n",
        "# base : Gaussian Naive Bayes\n",
        "gnb = GaussianNB()\n",
        "bag_model = BaggingClassifier(base_estimator=gnb, n_estimators=100, bootstrap=True)\n",
        "bag_model = bag_model.fit(x_train, y_train)"
      ],
      "metadata": {
        "id": "3HWud3TVPGta"
      },
      "execution_count": null,
      "outputs": []
    },
    {
      "cell_type": "code",
      "source": [
        "predicted = bag_model.predict(x_test)\n",
        "print(bag_model.score(x_test, y_test))"
      ],
      "metadata": {
        "colab": {
          "base_uri": "https://localhost:8080/"
        },
        "id": "OXV7tivQKwdl",
        "outputId": "1352ef1f-32b9-4f24-8aac-f9ff5ceb567f"
      },
      "execution_count": 36,
      "outputs": [
        {
          "output_type": "stream",
          "name": "stdout",
          "text": [
            "0.4626849819443461\n"
          ]
        }
      ]
    },
    {
      "cell_type": "code",
      "source": [
        "print(confusion_matrix(y_test, predicted))"
      ],
      "metadata": {
        "colab": {
          "base_uri": "https://localhost:8080/"
        },
        "id": "FdzlUgviTOlY",
        "outputId": "31d0d8ba-119d-41bd-b859-d00a94b1ff71"
      },
      "execution_count": 37,
      "outputs": [
        {
          "output_type": "stream",
          "name": "stdout",
          "text": [
            "[[  12    2    0    0    0    0    0    6    2    0    0]\n",
            " [   1  751    0    0    1    0  424  265  813    0    0]\n",
            " [   0    5    0    0    8    0   11    4    6    0    0]\n",
            " [   0    0    0    0    0    0    0    0    1    0    0]\n",
            " [   0    3    0    0 1908    0    0    0    0    0    0]\n",
            " [   0    7    0    0    5    0   10   18    6    0    0]\n",
            " [   3  874    0    1    0    0 3911 1145 3809    0    0]\n",
            " [   1  292    0    0    0    0 2117 1900 1147    0    0]\n",
            " [   5 1519    0    0    0    0 2183  472 4584    0    0]\n",
            " [   0    1    0    0    6    0    0    3    0    0    0]\n",
            " [   1    0    0    0    0    0    0    0    0    0    3]]\n"
          ]
        }
      ]
    },
    {
      "cell_type": "code",
      "source": [
        "# Measure Performance\n",
        "print(classification_report(y_test, predicted))"
      ],
      "metadata": {
        "id": "2uX988AmgHw2",
        "colab": {
          "base_uri": "https://localhost:8080/"
        },
        "outputId": "b9239d68-7c14-4b75-9f1e-f583b8367d4e"
      },
      "execution_count": 38,
      "outputs": [
        {
          "output_type": "stream",
          "name": "stdout",
          "text": [
            "              precision    recall  f1-score   support\n",
            "\n",
            "           0       0.52      0.55      0.53        22\n",
            "           1       0.22      0.33      0.26      2255\n",
            "           2       0.00      0.00      0.00        34\n",
            "           3       0.00      0.00      0.00         1\n",
            "           4       0.99      1.00      0.99      1911\n",
            "           5       0.00      0.00      0.00        46\n",
            "           6       0.45      0.40      0.43      9743\n",
            "           7       0.50      0.35      0.41      5457\n",
            "           8       0.44      0.52      0.48      8763\n",
            "           9       0.00      0.00      0.00        10\n",
            "          10       1.00      0.75      0.86         4\n",
            "\n",
            "    accuracy                           0.46     28246\n",
            "   macro avg       0.37      0.35      0.36     28246\n",
            "weighted avg       0.47      0.46      0.46     28246\n",
            "\n"
          ]
        },
        {
          "output_type": "stream",
          "name": "stderr",
          "text": [
            "/usr/local/lib/python3.7/dist-packages/sklearn/metrics/_classification.py:1308: UndefinedMetricWarning: Precision and F-score are ill-defined and being set to 0.0 in labels with no predicted samples. Use `zero_division` parameter to control this behavior.\n",
            "  _warn_prf(average, modifier, msg_start, len(result))\n",
            "/usr/local/lib/python3.7/dist-packages/sklearn/metrics/_classification.py:1308: UndefinedMetricWarning: Precision and F-score are ill-defined and being set to 0.0 in labels with no predicted samples. Use `zero_division` parameter to control this behavior.\n",
            "  _warn_prf(average, modifier, msg_start, len(result))\n",
            "/usr/local/lib/python3.7/dist-packages/sklearn/metrics/_classification.py:1308: UndefinedMetricWarning: Precision and F-score are ill-defined and being set to 0.0 in labels with no predicted samples. Use `zero_division` parameter to control this behavior.\n",
            "  _warn_prf(average, modifier, msg_start, len(result))\n"
          ]
        }
      ]
    },
    {
      "cell_type": "code",
      "source": [
        "# Classification Result\n",
        "precipType = 0\n",
        "temperature = 9.472222\n",
        "apparentTemp = 7.388889\n",
        "humidity = 0.89\n",
        "windSpeed = 14.1197\n",
        "windBearing = 251\n",
        "visibility = 15.8263\n",
        "pressure = 1015.13\n",
        "predicted = bag_model.predict([[precipType, temperature,\n",
        "                            apparentTemp, humidity,\n",
        "                            windSpeed, windBearing,\n",
        "                            visibility, pressure]])\n",
        "result = \"\""
      ],
      "metadata": {
        "id": "JXPUn5HVR8A-",
        "colab": {
          "base_uri": "https://localhost:8080/"
        },
        "outputId": "8b83de00-3437-4e2c-aad0-d22da6298807"
      },
      "execution_count": 39,
      "outputs": [
        {
          "output_type": "stream",
          "name": "stderr",
          "text": [
            "/usr/local/lib/python3.7/dist-packages/sklearn/base.py:446: UserWarning: X does not have valid feature names, but BaggingClassifier was fitted with feature names\n",
            "  \"X does not have valid feature names, but\"\n"
          ]
        }
      ]
    },
    {
      "cell_type": "code",
      "source": [
        "if predicted[0] == 0:\n",
        "  result = \"Breezy\"\n",
        "elif predicted[0] == 1:\n",
        "  result = \"Clear\"\n",
        "elif predicted[0] == 2:\n",
        "  result = \"Drizzle\"\n",
        "elif predicted[0] == 3:\n",
        "  result = \"Dry\"\n",
        "elif predicted[0] == 4:\n",
        "  result = \"Foggy\"\n",
        "elif predicted[0] == 5:\n",
        "  result = \"Light Rain\"\n",
        "elif predicted[0] == 6:\n",
        "  result = \"Mostly Cloudy\"\n",
        "elif predicted[0] == 7:\n",
        "  result = \"Overcast\"\n",
        "elif predicted[0] == 8:\n",
        "  result = \"Partly Cloudy\"\n",
        "elif predicted[0] == 9:\n",
        "  result = \"Rain\"\n",
        "elif predicted[0] == 10:\n",
        "  result = \"Windy\"\n",
        "else:\n",
        "  result = \"Not Found\"\n",
        "print(\"Prediction Result :\", result)"
      ],
      "metadata": {
        "id": "ADpQ8pM9rJ5w",
        "colab": {
          "base_uri": "https://localhost:8080/"
        },
        "outputId": "dfb475e2-db54-457c-df93-e4eb85de32df"
      },
      "execution_count": 40,
      "outputs": [
        {
          "output_type": "stream",
          "name": "stdout",
          "text": [
            "Prediction Result : Partly Cloudy\n"
          ]
        }
      ]
    }
  ]
}